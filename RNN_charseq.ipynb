{
  "nbformat": 4,
  "nbformat_minor": 0,
  "metadata": {
    "colab": {
      "name": "RNN charseq",
      "provenance": [],
      "authorship_tag": "ABX9TyPxn+mk6utu2IpNn8hUGtww",
      "include_colab_link": true
    },
    "kernelspec": {
      "name": "python3",
      "display_name": "Python 3"
    }
  },
  "cells": [
    {
      "cell_type": "markdown",
      "metadata": {
        "id": "view-in-github",
        "colab_type": "text"
      },
      "source": [
        "<a href=\"https://colab.research.google.com/github/zlzonhenu/RNN-tutorial/blob/master/RNN_charseq.ipynb\" target=\"_parent\"><img src=\"https://colab.research.google.com/assets/colab-badge.svg\" alt=\"Open In Colab\"/></a>"
      ]
    },
    {
      "cell_type": "code",
      "metadata": {
        "id": "GuWJm-O2_7qT",
        "colab_type": "code",
        "colab": {}
      },
      "source": [
        "import torch\n",
        "import torch.optim as optim\n",
        "import numpy as np"
      ],
      "execution_count": 0,
      "outputs": []
    },
    {
      "cell_type": "code",
      "metadata": {
        "id": "eeW1hG9NCa1b",
        "colab_type": "code",
        "colab": {
          "base_uri": "https://localhost:8080/",
          "height": 35
        },
        "outputId": "a17a231b-0163-4c55-9f09-a43712dd896a"
      },
      "source": [
        "torch.manual_seed(0)"
      ],
      "execution_count": 2,
      "outputs": [
        {
          "output_type": "execute_result",
          "data": {
            "text/plain": [
              "<torch._C.Generator at 0x7f039a8b1ed0>"
            ]
          },
          "metadata": {
            "tags": []
          },
          "execution_count": 2
        }
      ]
    },
    {
      "cell_type": "code",
      "metadata": {
        "id": "tBCHAWMiCd2z",
        "colab_type": "code",
        "colab": {}
      },
      "source": [
        "sample = \" if you want you\""
      ],
      "execution_count": 0,
      "outputs": []
    },
    {
      "cell_type": "code",
      "metadata": {
        "id": "dzFlGIJpCh5Z",
        "colab_type": "code",
        "colab": {
          "base_uri": "https://localhost:8080/",
          "height": 53
        },
        "outputId": "0faa6083-5854-4f08-c27b-912a3b9d4ced"
      },
      "source": [
        "#make dictionary\n",
        "char_set = list(set(sample))\n",
        "print(char_set)\n",
        "char_dic = {c: i for i,c in enumerate(char_set)}\n",
        "print(char_dic)"
      ],
      "execution_count": 4,
      "outputs": [
        {
          "output_type": "stream",
          "text": [
            "['y', 'n', 'u', 'i', ' ', 'a', 'w', 't', 'o', 'f']\n",
            "{'y': 0, 'n': 1, 'u': 2, 'i': 3, ' ': 4, 'a': 5, 'w': 6, 't': 7, 'o': 8, 'f': 9}\n"
          ],
          "name": "stdout"
        }
      ]
    },
    {
      "cell_type": "code",
      "metadata": {
        "id": "UckpAh02CwDW",
        "colab_type": "code",
        "colab": {}
      },
      "source": [
        "#hyper parameters\n",
        "dic_size = len(char_dic)\n",
        "hidden_size = len(char_dic)\n",
        "learning_rate = 0.1"
      ],
      "execution_count": 0,
      "outputs": []
    },
    {
      "cell_type": "code",
      "metadata": {
        "id": "RcaHB75JC96o",
        "colab_type": "code",
        "colab": {
          "base_uri": "https://localhost:8080/",
          "height": 323
        },
        "outputId": "f50349b2-ff4f-4ce9-a3e1-d2524d7004a7"
      },
      "source": [
        "#data setting\n",
        "sample_idx = [char_dic[c] for c in sample]\n",
        "x_data = [sample_idx[:-1]]\n",
        "print(x_data)\n",
        "x_one_hot = [np.eye(dic_size)[x] for x in x_data]\n",
        "print(x_one_hot)\n",
        "y_data = [sample_idx[1:]]\n",
        "print(y_data)"
      ],
      "execution_count": 6,
      "outputs": [
        {
          "output_type": "stream",
          "text": [
            "[[4, 3, 9, 4, 0, 8, 2, 4, 6, 5, 1, 7, 4, 0, 8]]\n",
            "[array([[0., 0., 0., 0., 1., 0., 0., 0., 0., 0.],\n",
            "       [0., 0., 0., 1., 0., 0., 0., 0., 0., 0.],\n",
            "       [0., 0., 0., 0., 0., 0., 0., 0., 0., 1.],\n",
            "       [0., 0., 0., 0., 1., 0., 0., 0., 0., 0.],\n",
            "       [1., 0., 0., 0., 0., 0., 0., 0., 0., 0.],\n",
            "       [0., 0., 0., 0., 0., 0., 0., 0., 1., 0.],\n",
            "       [0., 0., 1., 0., 0., 0., 0., 0., 0., 0.],\n",
            "       [0., 0., 0., 0., 1., 0., 0., 0., 0., 0.],\n",
            "       [0., 0., 0., 0., 0., 0., 1., 0., 0., 0.],\n",
            "       [0., 0., 0., 0., 0., 1., 0., 0., 0., 0.],\n",
            "       [0., 1., 0., 0., 0., 0., 0., 0., 0., 0.],\n",
            "       [0., 0., 0., 0., 0., 0., 0., 1., 0., 0.],\n",
            "       [0., 0., 0., 0., 1., 0., 0., 0., 0., 0.],\n",
            "       [1., 0., 0., 0., 0., 0., 0., 0., 0., 0.],\n",
            "       [0., 0., 0., 0., 0., 0., 0., 0., 1., 0.]])]\n",
            "[[3, 9, 4, 0, 8, 2, 4, 6, 5, 1, 7, 4, 0, 8, 2]]\n"
          ],
          "name": "stdout"
        }
      ]
    },
    {
      "cell_type": "code",
      "metadata": {
        "id": "ah8xnjhZDj-t",
        "colab_type": "code",
        "colab": {}
      },
      "source": [
        "#transform as torch tensor variable\n",
        "X = torch.FloatTensor(x_one_hot)\n",
        "Y = torch.LongTensor(y_data)"
      ],
      "execution_count": 0,
      "outputs": []
    },
    {
      "cell_type": "code",
      "metadata": {
        "id": "UQavBl3bDzbU",
        "colab_type": "code",
        "colab": {}
      },
      "source": [
        "#declare RNN\n",
        "rnn = torch.nn.RNN(dic_size, hidden_size, batch_first=True)"
      ],
      "execution_count": 0,
      "outputs": []
    },
    {
      "cell_type": "code",
      "metadata": {
        "id": "VR18iOnND8Sf",
        "colab_type": "code",
        "colab": {}
      },
      "source": [
        "#loss & optimizer setting\n",
        "criterion = torch.nn.CrossEntropyLoss()\n",
        "optimizer = optim.Adam(rnn.parameters(), learning_rate)"
      ],
      "execution_count": 0,
      "outputs": []
    },
    {
      "cell_type": "code",
      "metadata": {
        "id": "NqMNdIYNEGj7",
        "colab_type": "code",
        "colab": {
          "base_uri": "https://localhost:8080/",
          "height": 917
        },
        "outputId": "07ec3c75-8329-4f6d-e171-b08c02ff171d"
      },
      "source": [
        "#start training\n",
        "for i in range(50):\n",
        "  optimizer.zero_grad()\n",
        "  outputs, _status = rnn(X)\n",
        "  loss = criterion(outputs.view(-1, dic_size), Y.view(-1))\n",
        "  loss.backward()\n",
        "  optimizer.step()\n",
        "\n",
        "  result = outputs.data.numpy().argmax(axis=2)\n",
        "  result_str  = ''.join([char_set[c] for c in np.squeeze(result)])\n",
        "  print(i, \"loss: \", loss.item(), \"prediction: \", result, \"true Y: \", y_data, \"prediction str: \", result_str)"
      ],
      "execution_count": 11,
      "outputs": [
        {
          "output_type": "stream",
          "text": [
            "0 loss:  2.035550117492676 prediction:  [[0 7 0 0 0 0 4 6 4 1 0 1 0 0 0]] true Y:  [[3, 9, 4, 0, 8, 2, 4, 6, 5, 1, 7, 4, 0, 8, 2]] prediction str:  ytyyyy w nynyyy\n",
            "1 loss:  1.7828788757324219 prediction:  [[0 2 4 2 8 2 4 6 4 8 2 4 0 8 2]] true Y:  [[3, 9, 4, 0, 8, 2, 4, 6, 5, 1, 7, 4, 0, 8, 2]] prediction str:  yu uou w ou you\n",
            "2 loss:  1.5885928869247437 prediction:  [[0 2 4 2 8 2 4 6 4 8 7 4 0 8 2]] true Y:  [[3, 9, 4, 0, 8, 2, 4, 6, 5, 1, 7, 4, 0, 8, 2]] prediction str:  yu uou w ot you\n",
            "3 loss:  1.4637764692306519 prediction:  [[0 2 4 2 4 2 4 6 5 8 7 4 0 4 2]] true Y:  [[3, 9, 4, 0, 8, 2, 4, 6, 5, 1, 7, 4, 0, 8, 2]] prediction str:  yu u u waot y u\n",
            "4 loss:  1.3910222053527832 prediction:  [[0 2 4 0 4 2 4 6 4 1 7 4 2 8 2]] true Y:  [[3, 9, 4, 0, 8, 2, 4, 6, 5, 1, 7, 4, 0, 8, 2]] prediction str:  yu y u w nt uou\n",
            "5 loss:  1.3235290050506592 prediction:  [[0 2 4 0 4 2 4 6 5 1 7 4 2 4 2]] true Y:  [[3, 9, 4, 0, 8, 2, 4, 6, 5, 1, 7, 4, 0, 8, 2]] prediction str:  yu y u want u u\n",
            "6 loss:  1.246833086013794 prediction:  [[3 9 4 0 4 2 4 6 5 1 7 4 2 4 2]] true Y:  [[3, 9, 4, 0, 8, 2, 4, 6, 5, 1, 7, 4, 0, 8, 2]] prediction str:  if y u want u u\n",
            "7 loss:  1.191412329673767 prediction:  [[3 9 4 0 4 2 4 6 5 1 7 4 2 8 2]] true Y:  [[3, 9, 4, 0, 8, 2, 4, 6, 5, 1, 7, 4, 0, 8, 2]] prediction str:  if y u want uou\n",
            "8 loss:  1.1351895332336426 prediction:  [[3 9 4 0 4 2 4 6 5 1 7 4 0 8 2]] true Y:  [[3, 9, 4, 0, 8, 2, 4, 6, 5, 1, 7, 4, 0, 8, 2]] prediction str:  if y u want you\n",
            "9 loss:  1.0893996953964233 prediction:  [[3 9 4 0 8 2 4 6 5 1 7 4 0 8 2]] true Y:  [[3, 9, 4, 0, 8, 2, 4, 6, 5, 1, 7, 4, 0, 8, 2]] prediction str:  if you want you\n",
            "10 loss:  1.0442218780517578 prediction:  [[3 9 4 0 8 2 4 6 5 1 7 4 0 8 2]] true Y:  [[3, 9, 4, 0, 8, 2, 4, 6, 5, 1, 7, 4, 0, 8, 2]] prediction str:  if you want you\n",
            "11 loss:  1.0333530902862549 prediction:  [[3 9 4 0 8 2 4 6 5 1 7 4 0 8 2]] true Y:  [[3, 9, 4, 0, 8, 2, 4, 6, 5, 1, 7, 4, 0, 8, 2]] prediction str:  if you want you\n",
            "12 loss:  0.992482602596283 prediction:  [[3 9 4 0 8 2 4 6 5 1 7 4 0 8 2]] true Y:  [[3, 9, 4, 0, 8, 2, 4, 6, 5, 1, 7, 4, 0, 8, 2]] prediction str:  if you want you\n",
            "13 loss:  0.9706665277481079 prediction:  [[3 9 4 0 8 2 4 6 5 1 7 4 0 8 2]] true Y:  [[3, 9, 4, 0, 8, 2, 4, 6, 5, 1, 7, 4, 0, 8, 2]] prediction str:  if you want you\n",
            "14 loss:  0.9479374289512634 prediction:  [[3 9 4 0 8 2 4 6 5 1 7 4 0 8 2]] true Y:  [[3, 9, 4, 0, 8, 2, 4, 6, 5, 1, 7, 4, 0, 8, 2]] prediction str:  if you want you\n",
            "15 loss:  0.9326318502426147 prediction:  [[3 9 4 0 8 2 4 6 5 1 7 4 0 8 2]] true Y:  [[3, 9, 4, 0, 8, 2, 4, 6, 5, 1, 7, 4, 0, 8, 2]] prediction str:  if you want you\n",
            "16 loss:  0.920141339302063 prediction:  [[3 9 4 0 8 2 4 6 5 1 7 4 0 8 2]] true Y:  [[3, 9, 4, 0, 8, 2, 4, 6, 5, 1, 7, 4, 0, 8, 2]] prediction str:  if you want you\n",
            "17 loss:  0.9071089029312134 prediction:  [[3 9 4 0 8 2 4 6 5 1 7 4 0 8 2]] true Y:  [[3, 9, 4, 0, 8, 2, 4, 6, 5, 1, 7, 4, 0, 8, 2]] prediction str:  if you want you\n",
            "18 loss:  0.8951579332351685 prediction:  [[3 9 4 0 8 2 4 6 5 1 7 4 0 8 2]] true Y:  [[3, 9, 4, 0, 8, 2, 4, 6, 5, 1, 7, 4, 0, 8, 2]] prediction str:  if you want you\n",
            "19 loss:  0.8838901519775391 prediction:  [[3 9 4 0 8 2 4 6 5 1 7 4 0 8 2]] true Y:  [[3, 9, 4, 0, 8, 2, 4, 6, 5, 1, 7, 4, 0, 8, 2]] prediction str:  if you want you\n",
            "20 loss:  0.8739736080169678 prediction:  [[3 9 4 0 8 2 4 6 5 1 7 4 0 8 2]] true Y:  [[3, 9, 4, 0, 8, 2, 4, 6, 5, 1, 7, 4, 0, 8, 2]] prediction str:  if you want you\n",
            "21 loss:  0.8659906387329102 prediction:  [[3 9 4 0 8 2 4 6 5 1 7 4 0 8 2]] true Y:  [[3, 9, 4, 0, 8, 2, 4, 6, 5, 1, 7, 4, 0, 8, 2]] prediction str:  if you want you\n",
            "22 loss:  0.8592755794525146 prediction:  [[3 9 4 0 8 2 4 6 5 1 7 4 0 8 2]] true Y:  [[3, 9, 4, 0, 8, 2, 4, 6, 5, 1, 7, 4, 0, 8, 2]] prediction str:  if you want you\n",
            "23 loss:  0.8533268570899963 prediction:  [[3 9 4 0 8 2 4 6 5 1 7 4 0 8 2]] true Y:  [[3, 9, 4, 0, 8, 2, 4, 6, 5, 1, 7, 4, 0, 8, 2]] prediction str:  if you want you\n",
            "24 loss:  0.84808349609375 prediction:  [[3 9 4 0 8 2 4 6 5 1 7 4 0 8 2]] true Y:  [[3, 9, 4, 0, 8, 2, 4, 6, 5, 1, 7, 4, 0, 8, 2]] prediction str:  if you want you\n",
            "25 loss:  0.8435975313186646 prediction:  [[3 9 4 0 8 2 4 6 5 1 7 4 0 8 2]] true Y:  [[3, 9, 4, 0, 8, 2, 4, 6, 5, 1, 7, 4, 0, 8, 2]] prediction str:  if you want you\n",
            "26 loss:  0.8401046395301819 prediction:  [[3 9 4 0 8 2 4 6 5 1 7 4 0 8 2]] true Y:  [[3, 9, 4, 0, 8, 2, 4, 6, 5, 1, 7, 4, 0, 8, 2]] prediction str:  if you want you\n",
            "27 loss:  0.8377895355224609 prediction:  [[3 9 4 0 8 2 4 6 5 1 7 4 0 8 2]] true Y:  [[3, 9, 4, 0, 8, 2, 4, 6, 5, 1, 7, 4, 0, 8, 2]] prediction str:  if you want you\n",
            "28 loss:  0.8354297876358032 prediction:  [[3 9 4 0 8 2 4 6 5 1 7 4 0 8 2]] true Y:  [[3, 9, 4, 0, 8, 2, 4, 6, 5, 1, 7, 4, 0, 8, 2]] prediction str:  if you want you\n",
            "29 loss:  0.8327288031578064 prediction:  [[3 9 4 0 8 2 4 6 5 1 7 4 0 8 2]] true Y:  [[3, 9, 4, 0, 8, 2, 4, 6, 5, 1, 7, 4, 0, 8, 2]] prediction str:  if you want you\n",
            "30 loss:  0.8307920098304749 prediction:  [[3 9 4 0 8 2 4 6 5 1 7 4 0 8 2]] true Y:  [[3, 9, 4, 0, 8, 2, 4, 6, 5, 1, 7, 4, 0, 8, 2]] prediction str:  if you want you\n",
            "31 loss:  0.8290699124336243 prediction:  [[3 9 4 0 8 2 4 6 5 1 7 4 0 8 2]] true Y:  [[3, 9, 4, 0, 8, 2, 4, 6, 5, 1, 7, 4, 0, 8, 2]] prediction str:  if you want you\n",
            "32 loss:  0.8272116780281067 prediction:  [[3 9 4 0 8 2 4 6 5 1 7 4 0 8 2]] true Y:  [[3, 9, 4, 0, 8, 2, 4, 6, 5, 1, 7, 4, 0, 8, 2]] prediction str:  if you want you\n",
            "33 loss:  0.8255494236946106 prediction:  [[3 9 4 0 8 2 4 6 5 1 7 4 0 8 2]] true Y:  [[3, 9, 4, 0, 8, 2, 4, 6, 5, 1, 7, 4, 0, 8, 2]] prediction str:  if you want you\n",
            "34 loss:  0.8244319558143616 prediction:  [[3 9 4 0 8 2 4 6 5 1 7 4 0 8 2]] true Y:  [[3, 9, 4, 0, 8, 2, 4, 6, 5, 1, 7, 4, 0, 8, 2]] prediction str:  if you want you\n",
            "35 loss:  0.8234888315200806 prediction:  [[3 9 4 0 8 2 4 6 5 1 7 4 0 8 2]] true Y:  [[3, 9, 4, 0, 8, 2, 4, 6, 5, 1, 7, 4, 0, 8, 2]] prediction str:  if you want you\n",
            "36 loss:  0.8223810195922852 prediction:  [[3 9 4 0 8 2 4 6 5 1 7 4 0 8 2]] true Y:  [[3, 9, 4, 0, 8, 2, 4, 6, 5, 1, 7, 4, 0, 8, 2]] prediction str:  if you want you\n",
            "37 loss:  0.8215141296386719 prediction:  [[3 9 4 0 8 2 4 6 5 1 7 4 0 8 2]] true Y:  [[3, 9, 4, 0, 8, 2, 4, 6, 5, 1, 7, 4, 0, 8, 2]] prediction str:  if you want you\n",
            "38 loss:  0.8208482265472412 prediction:  [[3 9 4 0 8 2 4 6 5 1 7 4 0 8 2]] true Y:  [[3, 9, 4, 0, 8, 2, 4, 6, 5, 1, 7, 4, 0, 8, 2]] prediction str:  if you want you\n",
            "39 loss:  0.8201123476028442 prediction:  [[3 9 4 0 8 2 4 6 5 1 7 4 0 8 2]] true Y:  [[3, 9, 4, 0, 8, 2, 4, 6, 5, 1, 7, 4, 0, 8, 2]] prediction str:  if you want you\n",
            "40 loss:  0.8193180561065674 prediction:  [[3 9 4 0 8 2 4 6 5 1 7 4 0 8 2]] true Y:  [[3, 9, 4, 0, 8, 2, 4, 6, 5, 1, 7, 4, 0, 8, 2]] prediction str:  if you want you\n",
            "41 loss:  0.8186941742897034 prediction:  [[3 9 4 0 8 2 4 6 5 1 7 4 0 8 2]] true Y:  [[3, 9, 4, 0, 8, 2, 4, 6, 5, 1, 7, 4, 0, 8, 2]] prediction str:  if you want you\n",
            "42 loss:  0.8182116746902466 prediction:  [[3 9 4 0 8 2 4 6 5 1 7 4 0 8 2]] true Y:  [[3, 9, 4, 0, 8, 2, 4, 6, 5, 1, 7, 4, 0, 8, 2]] prediction str:  if you want you\n",
            "43 loss:  0.817627489566803 prediction:  [[3 9 4 0 8 2 4 6 5 1 7 4 0 8 2]] true Y:  [[3, 9, 4, 0, 8, 2, 4, 6, 5, 1, 7, 4, 0, 8, 2]] prediction str:  if you want you\n",
            "44 loss:  0.8171441555023193 prediction:  [[3 9 4 0 8 2 4 6 5 1 7 4 0 8 2]] true Y:  [[3, 9, 4, 0, 8, 2, 4, 6, 5, 1, 7, 4, 0, 8, 2]] prediction str:  if you want you\n",
            "45 loss:  0.8168137669563293 prediction:  [[3 9 4 0 8 2 4 6 5 1 7 4 0 8 2]] true Y:  [[3, 9, 4, 0, 8, 2, 4, 6, 5, 1, 7, 4, 0, 8, 2]] prediction str:  if you want you\n",
            "46 loss:  0.8164497017860413 prediction:  [[3 9 4 0 8 2 4 6 5 1 7 4 0 8 2]] true Y:  [[3, 9, 4, 0, 8, 2, 4, 6, 5, 1, 7, 4, 0, 8, 2]] prediction str:  if you want you\n",
            "47 loss:  0.8160656690597534 prediction:  [[3 9 4 0 8 2 4 6 5 1 7 4 0 8 2]] true Y:  [[3, 9, 4, 0, 8, 2, 4, 6, 5, 1, 7, 4, 0, 8, 2]] prediction str:  if you want you\n",
            "48 loss:  0.8157942891120911 prediction:  [[3 9 4 0 8 2 4 6 5 1 7 4 0 8 2]] true Y:  [[3, 9, 4, 0, 8, 2, 4, 6, 5, 1, 7, 4, 0, 8, 2]] prediction str:  if you want you\n",
            "49 loss:  0.8155242204666138 prediction:  [[3 9 4 0 8 2 4 6 5 1 7 4 0 8 2]] true Y:  [[3, 9, 4, 0, 8, 2, 4, 6, 5, 1, 7, 4, 0, 8, 2]] prediction str:  if you want you\n"
          ],
          "name": "stdout"
        }
      ]
    },
    {
      "cell_type": "code",
      "metadata": {
        "id": "Xj3joJlCEx1K",
        "colab_type": "code",
        "colab": {}
      },
      "source": [
        ""
      ],
      "execution_count": 0,
      "outputs": []
    }
  ]
}