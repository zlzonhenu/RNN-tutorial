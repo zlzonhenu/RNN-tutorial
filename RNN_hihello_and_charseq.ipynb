{
  "nbformat": 4,
  "nbformat_minor": 0,
  "metadata": {
    "colab": {
      "name": "RNN hihello and charseq",
      "provenance": [],
      "authorship_tag": "ABX9TyN/s8cbBjkfvkBlRIc/pkim",
      "include_colab_link": true
    },
    "kernelspec": {
      "name": "python3",
      "display_name": "Python 3"
    }
  },
  "cells": [
    {
      "cell_type": "markdown",
      "metadata": {
        "id": "view-in-github",
        "colab_type": "text"
      },
      "source": [
        "<a href=\"https://colab.research.google.com/github/zlzonhenu/RNN-tutorial/blob/master/RNN_hihello_and_charseq.ipynb\" target=\"_parent\"><img src=\"https://colab.research.google.com/assets/colab-badge.svg\" alt=\"Open In Colab\"/></a>"
      ]
    },
    {
      "cell_type": "code",
      "metadata": {
        "id": "Ff6k8ndps9Gm",
        "colab_type": "code",
        "colab": {}
      },
      "source": [
        "import torch\n",
        "import torch.optim as optim\n",
        "import numpy as np"
      ],
      "execution_count": 0,
      "outputs": []
    },
    {
      "cell_type": "code",
      "metadata": {
        "id": "pcQjSrZqu8d5",
        "colab_type": "code",
        "colab": {
          "base_uri": "https://localhost:8080/",
          "height": 35
        },
        "outputId": "8cae5d34-da63-48ed-bf14-0cb7ab5dc708"
      },
      "source": [
        "torch.manual_seed(0)"
      ],
      "execution_count": 2,
      "outputs": [
        {
          "output_type": "execute_result",
          "data": {
            "text/plain": [
              "<torch._C.Generator at 0x7fa7443eef70>"
            ]
          },
          "metadata": {
            "tags": []
          },
          "execution_count": 2
        }
      ]
    },
    {
      "cell_type": "code",
      "metadata": {
        "id": "n37tvJJ-u_MR",
        "colab_type": "code",
        "colab": {}
      },
      "source": [
        "#declare dictionary\n",
        "char_set = ['h','i','e','l','o']"
      ],
      "execution_count": 0,
      "outputs": []
    },
    {
      "cell_type": "code",
      "metadata": {
        "id": "TD_My3tpvHYy",
        "colab_type": "code",
        "colab": {}
      },
      "source": [
        "#hyper parameters\n",
        "input_size = len(char_set)\n",
        "hidden_size = len(char_set)\n",
        "learning_rate = 0.1"
      ],
      "execution_count": 0,
      "outputs": []
    },
    {
      "cell_type": "code",
      "metadata": {
        "id": "AkrOHiDSvSSx",
        "colab_type": "code",
        "colab": {}
      },
      "source": [
        "#data setiing\n",
        "x_data = [[0,1,0,2,3,3]]\n",
        "x_one_hot = [[[1, 0, 0, 0, 0],\n",
        "              [0, 1, 0, 0, 0],\n",
        "              [1, 0, 0, 0, 0],\n",
        "              [0, 0, 1, 0, 0],\n",
        "              [0, 0, 0, 1, 0],\n",
        "              [0, 0, 0, 1, 0]]]\n",
        "y_data = [[1, 0, 2, 3, 3, 4]]"
      ],
      "execution_count": 0,
      "outputs": []
    },
    {
      "cell_type": "code",
      "metadata": {
        "id": "jnC6H9fwvkqf",
        "colab_type": "code",
        "colab": {}
      },
      "source": [
        "#transform as torch tensor variable\n",
        "X = torch.FloatTensor(x_one_hot)\n",
        "Y = torch.LongTensor(y_data)"
      ],
      "execution_count": 0,
      "outputs": []
    },
    {
      "cell_type": "code",
      "metadata": {
        "id": "AnZaRpZyvuCm",
        "colab_type": "code",
        "colab": {}
      },
      "source": [
        "#declare RNN\n",
        "rnn = torch.nn.RNN(input_size, hidden_size, batch_first = True)\n",
        "#batch_first guarantees the order of output"
      ],
      "execution_count": 0,
      "outputs": []
    },
    {
      "cell_type": "code",
      "metadata": {
        "id": "KrFTLLrbv8IG",
        "colab_type": "code",
        "colab": {}
      },
      "source": [
        "#loss & optimizer setting\n",
        "criterion = torch.nn.CrossEntropyLoss()\n",
        "optimizer = optim.Adam(rnn.parameters(), learning_rate)"
      ],
      "execution_count": 0,
      "outputs": []
    },
    {
      "cell_type": "code",
      "metadata": {
        "id": "oKejQl4_zTZ-",
        "colab_type": "code",
        "colab": {
          "base_uri": "https://localhost:8080/",
          "height": 395
        },
        "outputId": "f626277c-f89f-460c-e952-ca1ba3c5b16e"
      },
      "source": [
        "ouputs, _status = rnn(X)\n",
        "print(outputs.size())\n",
        "print(Y.size())\n",
        "print(Y.view(-1).size())\n",
        "print(outputs.view(-1,input_size).size())\n",
        "print(Y)\n",
        "print(outputs.data.numpy())\n",
        "print(outputs.data.numpy().argmax(axis=0))\n",
        "print(outputs.data.numpy().argmax(axis=1))\n",
        "print(outputs.data.numpy().argmax(axis=2))\n",
        "print(result)\n",
        "result.shape"
      ],
      "execution_count": 32,
      "outputs": [
        {
          "output_type": "stream",
          "text": [
            "torch.Size([1, 6, 5])\n",
            "torch.Size([1, 6])\n",
            "torch.Size([6])\n",
            "torch.Size([6, 5])\n",
            "tensor([[1, 0, 2, 3, 3, 4]])\n",
            "[[[-0.99561334  0.9885677  -0.9742647  -0.99791664 -0.99727935]\n",
            "  [ 0.9994566  -0.9916573  -0.99999994  0.9999962  -0.96832657]\n",
            "  [-0.9999745  -0.9850392   0.99496484 -0.97098386 -0.9999968 ]\n",
            "  [-0.9949256  -0.9774894  -1.          0.9999374  -0.99998665]\n",
            "  [-0.9996332  -0.99999845 -0.9994085   0.9706184  -0.23617315]\n",
            "  [-0.99980384 -0.9999955  -0.98764664 -0.86582017  0.9754412 ]]]\n",
            "[[0 0 0 0 0]\n",
            " [0 0 0 0 0]\n",
            " [0 0 0 0 0]\n",
            " [0 0 0 0 0]\n",
            " [0 0 0 0 0]\n",
            " [0 0 0 0 0]]\n",
            "[[1 0 2 1 5]]\n",
            "[[1 3 2 3 3 4]]\n",
            "[[1 3 2 3 3 4]]\n"
          ],
          "name": "stdout"
        },
        {
          "output_type": "execute_result",
          "data": {
            "text/plain": [
              "(1, 6)"
            ]
          },
          "metadata": {
            "tags": []
          },
          "execution_count": 32
        }
      ]
    },
    {
      "cell_type": "markdown",
      "metadata": {
        "id": "kEYYJ6rl05GN",
        "colab_type": "text"
      },
      "source": [
        "criterian : 각 카테고리에 대한 확률을 나타낸다. 그 확률 중 가장 높은 값을 가지는 클래스와 정답 클래스의 확률 차이를 줄이게 하는 함수\n",
        "\n",
        "cirterian(x, class)\n",
        "\n",
        "삼차원일때\n",
        "numpy().argmax(axis=0) 삼차원 배열끼리 비교 \n",
        "numpy().argmax(axis=1) 같은 열끼리 비교\n",
        "numpy().argmax(axis=2) 같은 행끼리 비교\n",
        "비교해서 가장 큰 값에 대한 인덱스 반환\n",
        "\n",
        "np.squeeze(result)\n",
        "축 정보를 주지 않아서 모든 1차원을 없앤다.\n",
        "여기서는 (1,6)을 (6)인 리스트로 변환한다."
      ]
    },
    {
      "cell_type": "code",
      "metadata": {
        "id": "kWVyCxKpwJZI",
        "colab_type": "code",
        "colab": {
          "base_uri": "https://localhost:8080/",
          "height": 1000
        },
        "outputId": "0edf663f-ecc7-474c-dba0-05e9cbb5743f"
      },
      "source": [
        "#start training\n",
        "for i in range(100):\n",
        "  optimizer.zero_grad()\n",
        "  outputs, _status = rnn(X)\n",
        "  loss = criterion(outputs.view(-1, input_size), Y.view(-1))\n",
        "  loss.backward()\n",
        "  optimizer.step()\n",
        "\n",
        "  result = outputs.data.numpy().argmax(axis=2)\n",
        "  #result array의 차원을 \n",
        "  result_str = ''.join([char_set[c] for c in np.squeeze(result)])\n",
        "  print(i, 'loss: ', loss.item(), 'Prediction: ', result, 'true Y: ', y_data, 'Prediction str: ', result_str)"
      ],
      "execution_count": 10,
      "outputs": [
        {
          "output_type": "stream",
          "text": [
            "0 loss:  1.4931949377059937 Prediction:  [[1 4 1 1 4 4]] true Y:  [[1, 0, 2, 3, 3, 4]] Prediction str:  ioiioo\n",
            "1 loss:  1.33371102809906 Prediction:  [[1 3 2 3 1 4]] true Y:  [[1, 0, 2, 3, 3, 4]] Prediction str:  ilelio\n",
            "2 loss:  1.215294599533081 Prediction:  [[2 3 2 3 3 3]] true Y:  [[1, 0, 2, 3, 3, 4]] Prediction str:  elelll\n",
            "3 loss:  1.1131387948989868 Prediction:  [[2 3 2 3 3 3]] true Y:  [[1, 0, 2, 3, 3, 4]] Prediction str:  elelll\n",
            "4 loss:  1.0241864919662476 Prediction:  [[2 3 2 3 3 4]] true Y:  [[1, 0, 2, 3, 3, 4]] Prediction str:  elello\n",
            "5 loss:  0.9573140740394592 Prediction:  [[2 3 2 3 3 4]] true Y:  [[1, 0, 2, 3, 3, 4]] Prediction str:  elello\n",
            "6 loss:  0.910200297832489 Prediction:  [[2 0 2 3 3 4]] true Y:  [[1, 0, 2, 3, 3, 4]] Prediction str:  ehello\n",
            "7 loss:  0.8731765151023865 Prediction:  [[1 0 2 3 3 4]] true Y:  [[1, 0, 2, 3, 3, 4]] Prediction str:  ihello\n",
            "8 loss:  0.8399617671966553 Prediction:  [[1 0 2 3 3 4]] true Y:  [[1, 0, 2, 3, 3, 4]] Prediction str:  ihello\n",
            "9 loss:  0.8088943362236023 Prediction:  [[1 0 2 3 3 4]] true Y:  [[1, 0, 2, 3, 3, 4]] Prediction str:  ihello\n",
            "10 loss:  0.7812859416007996 Prediction:  [[1 0 2 3 3 4]] true Y:  [[1, 0, 2, 3, 3, 4]] Prediction str:  ihello\n",
            "11 loss:  0.7585341334342957 Prediction:  [[1 3 2 3 3 4]] true Y:  [[1, 0, 2, 3, 3, 4]] Prediction str:  ilello\n",
            "12 loss:  0.740128755569458 Prediction:  [[1 3 2 3 3 4]] true Y:  [[1, 0, 2, 3, 3, 4]] Prediction str:  ilello\n",
            "13 loss:  0.7243585586547852 Prediction:  [[1 3 2 3 3 4]] true Y:  [[1, 0, 2, 3, 3, 4]] Prediction str:  ilello\n",
            "14 loss:  0.7091224193572998 Prediction:  [[1 3 2 3 3 4]] true Y:  [[1, 0, 2, 3, 3, 4]] Prediction str:  ilello\n",
            "15 loss:  0.6929273009300232 Prediction:  [[1 3 2 3 3 4]] true Y:  [[1, 0, 2, 3, 3, 4]] Prediction str:  ilello\n",
            "16 loss:  0.6821203231811523 Prediction:  [[1 3 2 3 3 4]] true Y:  [[1, 0, 2, 3, 3, 4]] Prediction str:  ilello\n",
            "17 loss:  0.6735277771949768 Prediction:  [[1 3 2 3 3 4]] true Y:  [[1, 0, 2, 3, 3, 4]] Prediction str:  ilello\n",
            "18 loss:  0.6595445275306702 Prediction:  [[1 3 2 3 3 4]] true Y:  [[1, 0, 2, 3, 3, 4]] Prediction str:  ilello\n",
            "19 loss:  0.6534827351570129 Prediction:  [[1 3 2 3 3 4]] true Y:  [[1, 0, 2, 3, 3, 4]] Prediction str:  ilello\n",
            "20 loss:  0.6465461254119873 Prediction:  [[1 3 2 3 3 4]] true Y:  [[1, 0, 2, 3, 3, 4]] Prediction str:  ilello\n",
            "21 loss:  0.6398186087608337 Prediction:  [[1 3 2 3 3 4]] true Y:  [[1, 0, 2, 3, 3, 4]] Prediction str:  ilello\n",
            "22 loss:  0.6381519436836243 Prediction:  [[1 3 2 3 3 4]] true Y:  [[1, 0, 2, 3, 3, 4]] Prediction str:  ilello\n",
            "23 loss:  0.6326726078987122 Prediction:  [[1 3 2 3 3 4]] true Y:  [[1, 0, 2, 3, 3, 4]] Prediction str:  ilello\n",
            "24 loss:  0.6256729960441589 Prediction:  [[1 3 2 3 3 4]] true Y:  [[1, 0, 2, 3, 3, 4]] Prediction str:  ilello\n",
            "25 loss:  0.6215081214904785 Prediction:  [[1 3 2 3 3 4]] true Y:  [[1, 0, 2, 3, 3, 4]] Prediction str:  ilello\n",
            "26 loss:  0.6167056560516357 Prediction:  [[1 3 2 3 3 4]] true Y:  [[1, 0, 2, 3, 3, 4]] Prediction str:  ilello\n",
            "27 loss:  0.609936535358429 Prediction:  [[1 3 2 3 3 4]] true Y:  [[1, 0, 2, 3, 3, 4]] Prediction str:  ilello\n",
            "28 loss:  0.6030198931694031 Prediction:  [[1 3 2 3 3 4]] true Y:  [[1, 0, 2, 3, 3, 4]] Prediction str:  ilello\n",
            "29 loss:  0.5992398262023926 Prediction:  [[1 3 2 3 3 4]] true Y:  [[1, 0, 2, 3, 3, 4]] Prediction str:  ilello\n",
            "30 loss:  0.5964338779449463 Prediction:  [[1 3 2 3 3 4]] true Y:  [[1, 0, 2, 3, 3, 4]] Prediction str:  ilello\n",
            "31 loss:  0.5916647911071777 Prediction:  [[1 3 2 3 3 4]] true Y:  [[1, 0, 2, 3, 3, 4]] Prediction str:  ilello\n",
            "32 loss:  0.5881564021110535 Prediction:  [[1 3 2 3 3 4]] true Y:  [[1, 0, 2, 3, 3, 4]] Prediction str:  ilello\n",
            "33 loss:  0.585434079170227 Prediction:  [[1 3 2 3 3 4]] true Y:  [[1, 0, 2, 3, 3, 4]] Prediction str:  ilello\n",
            "34 loss:  0.581319272518158 Prediction:  [[1 3 2 3 3 4]] true Y:  [[1, 0, 2, 3, 3, 4]] Prediction str:  ilello\n",
            "35 loss:  0.5761869549751282 Prediction:  [[1 3 2 3 3 4]] true Y:  [[1, 0, 2, 3, 3, 4]] Prediction str:  ilello\n",
            "36 loss:  0.573492169380188 Prediction:  [[1 3 2 3 3 4]] true Y:  [[1, 0, 2, 3, 3, 4]] Prediction str:  ilello\n",
            "37 loss:  0.5727558732032776 Prediction:  [[1 3 2 3 3 4]] true Y:  [[1, 0, 2, 3, 3, 4]] Prediction str:  ilello\n",
            "38 loss:  0.5682087540626526 Prediction:  [[1 3 2 3 3 4]] true Y:  [[1, 0, 2, 3, 3, 4]] Prediction str:  ilello\n",
            "39 loss:  0.5656264424324036 Prediction:  [[1 3 2 3 3 4]] true Y:  [[1, 0, 2, 3, 3, 4]] Prediction str:  ilello\n",
            "40 loss:  0.5647334456443787 Prediction:  [[1 3 2 3 3 4]] true Y:  [[1, 0, 2, 3, 3, 4]] Prediction str:  ilello\n",
            "41 loss:  0.5629469752311707 Prediction:  [[1 3 2 3 3 4]] true Y:  [[1, 0, 2, 3, 3, 4]] Prediction str:  ilello\n",
            "42 loss:  0.5603768229484558 Prediction:  [[1 3 2 3 3 4]] true Y:  [[1, 0, 2, 3, 3, 4]] Prediction str:  ilello\n",
            "43 loss:  0.5588172078132629 Prediction:  [[1 3 2 3 3 4]] true Y:  [[1, 0, 2, 3, 3, 4]] Prediction str:  ilello\n",
            "44 loss:  0.5584633946418762 Prediction:  [[1 3 2 3 3 4]] true Y:  [[1, 0, 2, 3, 3, 4]] Prediction str:  ilello\n",
            "45 loss:  0.5565400123596191 Prediction:  [[1 3 2 3 3 4]] true Y:  [[1, 0, 2, 3, 3, 4]] Prediction str:  ilello\n",
            "46 loss:  0.5548030734062195 Prediction:  [[1 3 2 3 3 4]] true Y:  [[1, 0, 2, 3, 3, 4]] Prediction str:  ilello\n",
            "47 loss:  0.5542734265327454 Prediction:  [[1 3 2 3 3 4]] true Y:  [[1, 0, 2, 3, 3, 4]] Prediction str:  ilello\n",
            "48 loss:  0.5534440279006958 Prediction:  [[1 3 2 3 3 4]] true Y:  [[1, 0, 2, 3, 3, 4]] Prediction str:  ilello\n",
            "49 loss:  0.552009642124176 Prediction:  [[1 3 2 3 3 4]] true Y:  [[1, 0, 2, 3, 3, 4]] Prediction str:  ilello\n",
            "50 loss:  0.5510937571525574 Prediction:  [[1 3 2 3 3 4]] true Y:  [[1, 0, 2, 3, 3, 4]] Prediction str:  ilello\n",
            "51 loss:  0.5506716966629028 Prediction:  [[1 3 2 3 3 4]] true Y:  [[1, 0, 2, 3, 3, 4]] Prediction str:  ilello\n",
            "52 loss:  0.5493642687797546 Prediction:  [[1 3 2 3 3 4]] true Y:  [[1, 0, 2, 3, 3, 4]] Prediction str:  ilello\n",
            "53 loss:  0.5483370423316956 Prediction:  [[1 3 2 3 3 4]] true Y:  [[1, 0, 2, 3, 3, 4]] Prediction str:  ilello\n",
            "54 loss:  0.5478050708770752 Prediction:  [[1 3 2 3 3 4]] true Y:  [[1, 0, 2, 3, 3, 4]] Prediction str:  ilello\n",
            "55 loss:  0.5469383597373962 Prediction:  [[1 3 2 3 3 4]] true Y:  [[1, 0, 2, 3, 3, 4]] Prediction str:  ilello\n",
            "56 loss:  0.5459227561950684 Prediction:  [[1 3 2 3 3 4]] true Y:  [[1, 0, 2, 3, 3, 4]] Prediction str:  ilello\n",
            "57 loss:  0.5454025864601135 Prediction:  [[1 3 2 3 3 4]] true Y:  [[1, 0, 2, 3, 3, 4]] Prediction str:  ilello\n",
            "58 loss:  0.5448522567749023 Prediction:  [[1 3 2 3 3 4]] true Y:  [[1, 0, 2, 3, 3, 4]] Prediction str:  ilello\n",
            "59 loss:  0.543980598449707 Prediction:  [[1 3 2 3 3 4]] true Y:  [[1, 0, 2, 3, 3, 4]] Prediction str:  ilello\n",
            "60 loss:  0.5434584021568298 Prediction:  [[1 3 2 3 3 4]] true Y:  [[1, 0, 2, 3, 3, 4]] Prediction str:  ilello\n",
            "61 loss:  0.5429834723472595 Prediction:  [[1 3 2 3 3 4]] true Y:  [[1, 0, 2, 3, 3, 4]] Prediction str:  ilello\n",
            "62 loss:  0.5422742962837219 Prediction:  [[1 3 2 3 3 4]] true Y:  [[1, 0, 2, 3, 3, 4]] Prediction str:  ilello\n",
            "63 loss:  0.5417041182518005 Prediction:  [[1 3 2 3 3 4]] true Y:  [[1, 0, 2, 3, 3, 4]] Prediction str:  ilello\n",
            "64 loss:  0.541330873966217 Prediction:  [[1 3 2 3 3 4]] true Y:  [[1, 0, 2, 3, 3, 4]] Prediction str:  ilello\n",
            "65 loss:  0.5407488942146301 Prediction:  [[1 3 2 3 3 4]] true Y:  [[1, 0, 2, 3, 3, 4]] Prediction str:  ilello\n",
            "66 loss:  0.5402577519416809 Prediction:  [[1 3 2 3 3 4]] true Y:  [[1, 0, 2, 3, 3, 4]] Prediction str:  ilello\n",
            "67 loss:  0.5399190783500671 Prediction:  [[1 3 2 3 3 4]] true Y:  [[1, 0, 2, 3, 3, 4]] Prediction str:  ilello\n",
            "68 loss:  0.5394624471664429 Prediction:  [[1 3 2 3 3 4]] true Y:  [[1, 0, 2, 3, 3, 4]] Prediction str:  ilello\n",
            "69 loss:  0.5390092134475708 Prediction:  [[1 3 2 3 3 4]] true Y:  [[1, 0, 2, 3, 3, 4]] Prediction str:  ilello\n",
            "70 loss:  0.5387027859687805 Prediction:  [[1 3 2 3 3 4]] true Y:  [[1, 0, 2, 3, 3, 4]] Prediction str:  ilello\n",
            "71 loss:  0.5383160710334778 Prediction:  [[1 3 2 3 3 4]] true Y:  [[1, 0, 2, 3, 3, 4]] Prediction str:  ilello\n",
            "72 loss:  0.5379177331924438 Prediction:  [[1 3 2 3 3 4]] true Y:  [[1, 0, 2, 3, 3, 4]] Prediction str:  ilello\n",
            "73 loss:  0.5376289486885071 Prediction:  [[1 3 2 3 3 4]] true Y:  [[1, 0, 2, 3, 3, 4]] Prediction str:  ilello\n",
            "74 loss:  0.5372946858406067 Prediction:  [[1 3 2 3 3 4]] true Y:  [[1, 0, 2, 3, 3, 4]] Prediction str:  ilello\n",
            "75 loss:  0.536936342716217 Prediction:  [[1 3 2 3 3 4]] true Y:  [[1, 0, 2, 3, 3, 4]] Prediction str:  ilello\n",
            "76 loss:  0.5366637706756592 Prediction:  [[1 3 2 3 3 4]] true Y:  [[1, 0, 2, 3, 3, 4]] Prediction str:  ilello\n",
            "77 loss:  0.5363660454750061 Prediction:  [[1 3 2 3 3 4]] true Y:  [[1, 0, 2, 3, 3, 4]] Prediction str:  ilello\n",
            "78 loss:  0.5360466837882996 Prediction:  [[1 3 2 3 3 4]] true Y:  [[1, 0, 2, 3, 3, 4]] Prediction str:  ilello\n",
            "79 loss:  0.535793125629425 Prediction:  [[1 3 2 3 3 4]] true Y:  [[1, 0, 2, 3, 3, 4]] Prediction str:  ilello\n",
            "80 loss:  0.5355224013328552 Prediction:  [[1 3 2 3 3 4]] true Y:  [[1, 0, 2, 3, 3, 4]] Prediction str:  ilello\n",
            "81 loss:  0.5352356433868408 Prediction:  [[1 3 2 3 3 4]] true Y:  [[1, 0, 2, 3, 3, 4]] Prediction str:  ilello\n",
            "82 loss:  0.5349993109703064 Prediction:  [[1 3 2 3 3 4]] true Y:  [[1, 0, 2, 3, 3, 4]] Prediction str:  ilello\n",
            "83 loss:  0.5347511172294617 Prediction:  [[1 3 2 3 3 4]] true Y:  [[1, 0, 2, 3, 3, 4]] Prediction str:  ilello\n",
            "84 loss:  0.5344937443733215 Prediction:  [[1 3 2 3 3 4]] true Y:  [[1, 0, 2, 3, 3, 4]] Prediction str:  ilello\n",
            "85 loss:  0.534275472164154 Prediction:  [[1 3 2 3 3 4]] true Y:  [[1, 0, 2, 3, 3, 4]] Prediction str:  ilello\n",
            "86 loss:  0.534046471118927 Prediction:  [[1 3 2 3 3 4]] true Y:  [[1, 0, 2, 3, 3, 4]] Prediction str:  ilello\n",
            "87 loss:  0.5338149666786194 Prediction:  [[1 3 2 3 3 4]] true Y:  [[1, 0, 2, 3, 3, 4]] Prediction str:  ilello\n",
            "88 loss:  0.5336135625839233 Prediction:  [[1 3 2 3 3 4]] true Y:  [[1, 0, 2, 3, 3, 4]] Prediction str:  ilello\n",
            "89 loss:  0.5334025025367737 Prediction:  [[1 3 2 3 3 4]] true Y:  [[1, 0, 2, 3, 3, 4]] Prediction str:  ilello\n",
            "90 loss:  0.5331950783729553 Prediction:  [[1 3 2 3 3 4]] true Y:  [[1, 0, 2, 3, 3, 4]] Prediction str:  ilello\n",
            "91 loss:  0.5330095887184143 Prediction:  [[1 3 2 3 3 4]] true Y:  [[1, 0, 2, 3, 3, 4]] Prediction str:  ilello\n",
            "92 loss:  0.5328157544136047 Prediction:  [[1 3 2 3 3 4]] true Y:  [[1, 0, 2, 3, 3, 4]] Prediction str:  ilello\n",
            "93 loss:  0.5326293110847473 Prediction:  [[1 3 2 3 3 4]] true Y:  [[1, 0, 2, 3, 3, 4]] Prediction str:  ilello\n",
            "94 loss:  0.5324582457542419 Prediction:  [[1 3 2 3 3 4]] true Y:  [[1, 0, 2, 3, 3, 4]] Prediction str:  ilello\n",
            "95 loss:  0.5322802662849426 Prediction:  [[1 3 2 3 3 4]] true Y:  [[1, 0, 2, 3, 3, 4]] Prediction str:  ilello\n",
            "96 loss:  0.5321123600006104 Prediction:  [[1 3 2 3 3 4]] true Y:  [[1, 0, 2, 3, 3, 4]] Prediction str:  ilello\n",
            "97 loss:  0.5319532752037048 Prediction:  [[1 3 2 3 3 4]] true Y:  [[1, 0, 2, 3, 3, 4]] Prediction str:  ilello\n",
            "98 loss:  0.5317898988723755 Prediction:  [[1 3 2 3 3 4]] true Y:  [[1, 0, 2, 3, 3, 4]] Prediction str:  ilello\n",
            "99 loss:  0.5316368341445923 Prediction:  [[1 3 2 3 3 4]] true Y:  [[1, 0, 2, 3, 3, 4]] Prediction str:  ilello\n"
          ],
          "name": "stdout"
        }
      ]
    }
  ]
}